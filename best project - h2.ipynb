{
 "cells": [
  {
   "cell_type": "markdown",
   "id": "181a96f1",
   "metadata": {},
   "source": [
    "# Hypothesis 2 \n",
    "Cool kids swim with sharks:"
   ]
  },
  {
   "cell_type": "markdown",
   "id": "f0e3e975",
   "metadata": {},
   "source": [
    "![enllaç](https://media.giphy.com/media/XrDT8BuYB3I2s/giphy.gif)"
   ]
  },
  {
   "cell_type": "code",
   "execution_count": 116,
   "id": "5dfd14e2",
   "metadata": {},
   "outputs": [],
   "source": [
    " #import pandas\n",
    "import seaborn as sns\n",
    "import matplotlib.pyplot as plt\n",
    "import pandas as pd\n",
    "import numpy as np\n",
    "from math import nan, isnan\n",
    "from statistics import mean \n",
    "import matplotlib.pyplot as plt"
   ]
  },
  {
   "cell_type": "code",
   "execution_count": 2,
   "id": "b56f24ee",
   "metadata": {},
   "outputs": [
    {
     "data": {
      "text/html": [
       "<div>\n",
       "<style scoped>\n",
       "    .dataframe tbody tr th:only-of-type {\n",
       "        vertical-align: middle;\n",
       "    }\n",
       "\n",
       "    .dataframe tbody tr th {\n",
       "        vertical-align: top;\n",
       "    }\n",
       "\n",
       "    .dataframe thead th {\n",
       "        text-align: right;\n",
       "    }\n",
       "</style>\n",
       "<table border=\"1\" class=\"dataframe\">\n",
       "  <thead>\n",
       "    <tr style=\"text-align: right;\">\n",
       "      <th></th>\n",
       "      <th>Case Number</th>\n",
       "      <th>Date</th>\n",
       "      <th>Year</th>\n",
       "      <th>Type</th>\n",
       "      <th>Country</th>\n",
       "      <th>Area</th>\n",
       "      <th>Location</th>\n",
       "      <th>Activity</th>\n",
       "      <th>Name</th>\n",
       "      <th>Sex</th>\n",
       "      <th>...</th>\n",
       "      <th>Species</th>\n",
       "      <th>Investigator or Source</th>\n",
       "      <th>pdf</th>\n",
       "      <th>href formula</th>\n",
       "      <th>href</th>\n",
       "      <th>Case Number.1</th>\n",
       "      <th>Case Number.2</th>\n",
       "      <th>original order</th>\n",
       "      <th>Unnamed: 22</th>\n",
       "      <th>Unnamed: 23</th>\n",
       "    </tr>\n",
       "  </thead>\n",
       "  <tbody>\n",
       "    <tr>\n",
       "      <th>0</th>\n",
       "      <td>2018.06.25</td>\n",
       "      <td>25-Jun-2018</td>\n",
       "      <td>2018.0</td>\n",
       "      <td>Boating</td>\n",
       "      <td>USA</td>\n",
       "      <td>California</td>\n",
       "      <td>Oceanside, San Diego County</td>\n",
       "      <td>Paddling</td>\n",
       "      <td>Julie Wolfe</td>\n",
       "      <td>F</td>\n",
       "      <td>...</td>\n",
       "      <td>White shark</td>\n",
       "      <td>R. Collier, GSAF</td>\n",
       "      <td>2018.06.25-Wolfe.pdf</td>\n",
       "      <td>http://sharkattackfile.net/spreadsheets/pdf_di...</td>\n",
       "      <td>http://sharkattackfile.net/spreadsheets/pdf_di...</td>\n",
       "      <td>2018.06.25</td>\n",
       "      <td>2018.06.25</td>\n",
       "      <td>6303.0</td>\n",
       "      <td>NaN</td>\n",
       "      <td>NaN</td>\n",
       "    </tr>\n",
       "    <tr>\n",
       "      <th>1</th>\n",
       "      <td>2018.06.18</td>\n",
       "      <td>18-Jun-2018</td>\n",
       "      <td>2018.0</td>\n",
       "      <td>Unprovoked</td>\n",
       "      <td>USA</td>\n",
       "      <td>Georgia</td>\n",
       "      <td>St. Simon Island, Glynn County</td>\n",
       "      <td>Standing</td>\n",
       "      <td>Adyson McNeely</td>\n",
       "      <td>F</td>\n",
       "      <td>...</td>\n",
       "      <td>NaN</td>\n",
       "      <td>K.McMurray, TrackingSharks.com</td>\n",
       "      <td>2018.06.18-McNeely.pdf</td>\n",
       "      <td>http://sharkattackfile.net/spreadsheets/pdf_di...</td>\n",
       "      <td>http://sharkattackfile.net/spreadsheets/pdf_di...</td>\n",
       "      <td>2018.06.18</td>\n",
       "      <td>2018.06.18</td>\n",
       "      <td>6302.0</td>\n",
       "      <td>NaN</td>\n",
       "      <td>NaN</td>\n",
       "    </tr>\n",
       "    <tr>\n",
       "      <th>2</th>\n",
       "      <td>2018.06.09</td>\n",
       "      <td>09-Jun-2018</td>\n",
       "      <td>2018.0</td>\n",
       "      <td>Invalid</td>\n",
       "      <td>USA</td>\n",
       "      <td>Hawaii</td>\n",
       "      <td>Habush, Oahu</td>\n",
       "      <td>Surfing</td>\n",
       "      <td>John Denges</td>\n",
       "      <td>M</td>\n",
       "      <td>...</td>\n",
       "      <td>NaN</td>\n",
       "      <td>K.McMurray, TrackingSharks.com</td>\n",
       "      <td>2018.06.09-Denges.pdf</td>\n",
       "      <td>http://sharkattackfile.net/spreadsheets/pdf_di...</td>\n",
       "      <td>http://sharkattackfile.net/spreadsheets/pdf_di...</td>\n",
       "      <td>2018.06.09</td>\n",
       "      <td>2018.06.09</td>\n",
       "      <td>6301.0</td>\n",
       "      <td>NaN</td>\n",
       "      <td>NaN</td>\n",
       "    </tr>\n",
       "    <tr>\n",
       "      <th>3</th>\n",
       "      <td>2018.06.08</td>\n",
       "      <td>08-Jun-2018</td>\n",
       "      <td>2018.0</td>\n",
       "      <td>Unprovoked</td>\n",
       "      <td>AUSTRALIA</td>\n",
       "      <td>New South Wales</td>\n",
       "      <td>Arrawarra Headland</td>\n",
       "      <td>Surfing</td>\n",
       "      <td>male</td>\n",
       "      <td>M</td>\n",
       "      <td>...</td>\n",
       "      <td>2 m shark</td>\n",
       "      <td>B. Myatt, GSAF</td>\n",
       "      <td>2018.06.08-Arrawarra.pdf</td>\n",
       "      <td>http://sharkattackfile.net/spreadsheets/pdf_di...</td>\n",
       "      <td>http://sharkattackfile.net/spreadsheets/pdf_di...</td>\n",
       "      <td>2018.06.08</td>\n",
       "      <td>2018.06.08</td>\n",
       "      <td>6300.0</td>\n",
       "      <td>NaN</td>\n",
       "      <td>NaN</td>\n",
       "    </tr>\n",
       "    <tr>\n",
       "      <th>4</th>\n",
       "      <td>2018.06.04</td>\n",
       "      <td>04-Jun-2018</td>\n",
       "      <td>2018.0</td>\n",
       "      <td>Provoked</td>\n",
       "      <td>MEXICO</td>\n",
       "      <td>Colima</td>\n",
       "      <td>La Ticla</td>\n",
       "      <td>Free diving</td>\n",
       "      <td>Gustavo Ramos</td>\n",
       "      <td>M</td>\n",
       "      <td>...</td>\n",
       "      <td>Tiger shark, 3m</td>\n",
       "      <td>A .Kipper</td>\n",
       "      <td>2018.06.04-Ramos.pdf</td>\n",
       "      <td>http://sharkattackfile.net/spreadsheets/pdf_di...</td>\n",
       "      <td>http://sharkattackfile.net/spreadsheets/pdf_di...</td>\n",
       "      <td>2018.06.04</td>\n",
       "      <td>2018.06.04</td>\n",
       "      <td>6299.0</td>\n",
       "      <td>NaN</td>\n",
       "      <td>NaN</td>\n",
       "    </tr>\n",
       "    <tr>\n",
       "      <th>...</th>\n",
       "      <td>...</td>\n",
       "      <td>...</td>\n",
       "      <td>...</td>\n",
       "      <td>...</td>\n",
       "      <td>...</td>\n",
       "      <td>...</td>\n",
       "      <td>...</td>\n",
       "      <td>...</td>\n",
       "      <td>...</td>\n",
       "      <td>...</td>\n",
       "      <td>...</td>\n",
       "      <td>...</td>\n",
       "      <td>...</td>\n",
       "      <td>...</td>\n",
       "      <td>...</td>\n",
       "      <td>...</td>\n",
       "      <td>...</td>\n",
       "      <td>...</td>\n",
       "      <td>...</td>\n",
       "      <td>...</td>\n",
       "      <td>...</td>\n",
       "    </tr>\n",
       "    <tr>\n",
       "      <th>25718</th>\n",
       "      <td>NaN</td>\n",
       "      <td>NaN</td>\n",
       "      <td>NaN</td>\n",
       "      <td>NaN</td>\n",
       "      <td>NaN</td>\n",
       "      <td>NaN</td>\n",
       "      <td>NaN</td>\n",
       "      <td>NaN</td>\n",
       "      <td>NaN</td>\n",
       "      <td>NaN</td>\n",
       "      <td>...</td>\n",
       "      <td>NaN</td>\n",
       "      <td>NaN</td>\n",
       "      <td>NaN</td>\n",
       "      <td>NaN</td>\n",
       "      <td>NaN</td>\n",
       "      <td>NaN</td>\n",
       "      <td>NaN</td>\n",
       "      <td>NaN</td>\n",
       "      <td>NaN</td>\n",
       "      <td>NaN</td>\n",
       "    </tr>\n",
       "    <tr>\n",
       "      <th>25719</th>\n",
       "      <td>NaN</td>\n",
       "      <td>NaN</td>\n",
       "      <td>NaN</td>\n",
       "      <td>NaN</td>\n",
       "      <td>NaN</td>\n",
       "      <td>NaN</td>\n",
       "      <td>NaN</td>\n",
       "      <td>NaN</td>\n",
       "      <td>NaN</td>\n",
       "      <td>NaN</td>\n",
       "      <td>...</td>\n",
       "      <td>NaN</td>\n",
       "      <td>NaN</td>\n",
       "      <td>NaN</td>\n",
       "      <td>NaN</td>\n",
       "      <td>NaN</td>\n",
       "      <td>NaN</td>\n",
       "      <td>NaN</td>\n",
       "      <td>NaN</td>\n",
       "      <td>NaN</td>\n",
       "      <td>NaN</td>\n",
       "    </tr>\n",
       "    <tr>\n",
       "      <th>25720</th>\n",
       "      <td>NaN</td>\n",
       "      <td>NaN</td>\n",
       "      <td>NaN</td>\n",
       "      <td>NaN</td>\n",
       "      <td>NaN</td>\n",
       "      <td>NaN</td>\n",
       "      <td>NaN</td>\n",
       "      <td>NaN</td>\n",
       "      <td>NaN</td>\n",
       "      <td>NaN</td>\n",
       "      <td>...</td>\n",
       "      <td>NaN</td>\n",
       "      <td>NaN</td>\n",
       "      <td>NaN</td>\n",
       "      <td>NaN</td>\n",
       "      <td>NaN</td>\n",
       "      <td>NaN</td>\n",
       "      <td>NaN</td>\n",
       "      <td>NaN</td>\n",
       "      <td>NaN</td>\n",
       "      <td>NaN</td>\n",
       "    </tr>\n",
       "    <tr>\n",
       "      <th>25721</th>\n",
       "      <td>NaN</td>\n",
       "      <td>NaN</td>\n",
       "      <td>NaN</td>\n",
       "      <td>NaN</td>\n",
       "      <td>NaN</td>\n",
       "      <td>NaN</td>\n",
       "      <td>NaN</td>\n",
       "      <td>NaN</td>\n",
       "      <td>NaN</td>\n",
       "      <td>NaN</td>\n",
       "      <td>...</td>\n",
       "      <td>NaN</td>\n",
       "      <td>NaN</td>\n",
       "      <td>NaN</td>\n",
       "      <td>NaN</td>\n",
       "      <td>NaN</td>\n",
       "      <td>NaN</td>\n",
       "      <td>NaN</td>\n",
       "      <td>NaN</td>\n",
       "      <td>NaN</td>\n",
       "      <td>NaN</td>\n",
       "    </tr>\n",
       "    <tr>\n",
       "      <th>25722</th>\n",
       "      <td>xx</td>\n",
       "      <td>NaN</td>\n",
       "      <td>NaN</td>\n",
       "      <td>NaN</td>\n",
       "      <td>NaN</td>\n",
       "      <td>NaN</td>\n",
       "      <td>NaN</td>\n",
       "      <td>NaN</td>\n",
       "      <td>NaN</td>\n",
       "      <td>NaN</td>\n",
       "      <td>...</td>\n",
       "      <td>NaN</td>\n",
       "      <td>NaN</td>\n",
       "      <td>NaN</td>\n",
       "      <td>NaN</td>\n",
       "      <td>NaN</td>\n",
       "      <td>NaN</td>\n",
       "      <td>NaN</td>\n",
       "      <td>NaN</td>\n",
       "      <td>NaN</td>\n",
       "      <td>NaN</td>\n",
       "    </tr>\n",
       "  </tbody>\n",
       "</table>\n",
       "<p>25723 rows × 24 columns</p>\n",
       "</div>"
      ],
      "text/plain": [
       "      Case Number         Date    Year        Type    Country  \\\n",
       "0      2018.06.25  25-Jun-2018  2018.0     Boating        USA   \n",
       "1      2018.06.18  18-Jun-2018  2018.0  Unprovoked        USA   \n",
       "2      2018.06.09  09-Jun-2018  2018.0     Invalid        USA   \n",
       "3      2018.06.08  08-Jun-2018  2018.0  Unprovoked  AUSTRALIA   \n",
       "4      2018.06.04  04-Jun-2018  2018.0    Provoked     MEXICO   \n",
       "...           ...          ...     ...         ...        ...   \n",
       "25718         NaN          NaN     NaN         NaN        NaN   \n",
       "25719         NaN          NaN     NaN         NaN        NaN   \n",
       "25720         NaN          NaN     NaN         NaN        NaN   \n",
       "25721         NaN          NaN     NaN         NaN        NaN   \n",
       "25722          xx          NaN     NaN         NaN        NaN   \n",
       "\n",
       "                  Area                        Location     Activity  \\\n",
       "0           California     Oceanside, San Diego County     Paddling   \n",
       "1              Georgia  St. Simon Island, Glynn County     Standing   \n",
       "2               Hawaii                    Habush, Oahu      Surfing   \n",
       "3      New South Wales              Arrawarra Headland      Surfing   \n",
       "4               Colima                        La Ticla  Free diving   \n",
       "...                ...                             ...          ...   \n",
       "25718              NaN                             NaN          NaN   \n",
       "25719              NaN                             NaN          NaN   \n",
       "25720              NaN                             NaN          NaN   \n",
       "25721              NaN                             NaN          NaN   \n",
       "25722              NaN                             NaN          NaN   \n",
       "\n",
       "                  Name Sex   ...         Species   \\\n",
       "0          Julie Wolfe    F  ...      White shark   \n",
       "1      Adyson McNeely     F  ...              NaN   \n",
       "2          John Denges    M  ...              NaN   \n",
       "3                 male    M  ...        2 m shark   \n",
       "4       Gustavo Ramos     M  ...  Tiger shark, 3m   \n",
       "...                ...  ...  ...              ...   \n",
       "25718              NaN  NaN  ...              NaN   \n",
       "25719              NaN  NaN  ...              NaN   \n",
       "25720              NaN  NaN  ...              NaN   \n",
       "25721              NaN  NaN  ...              NaN   \n",
       "25722              NaN  NaN  ...              NaN   \n",
       "\n",
       "               Investigator or Source                       pdf  \\\n",
       "0                    R. Collier, GSAF      2018.06.25-Wolfe.pdf   \n",
       "1      K.McMurray, TrackingSharks.com    2018.06.18-McNeely.pdf   \n",
       "2      K.McMurray, TrackingSharks.com     2018.06.09-Denges.pdf   \n",
       "3                      B. Myatt, GSAF  2018.06.08-Arrawarra.pdf   \n",
       "4                           A .Kipper      2018.06.04-Ramos.pdf   \n",
       "...                               ...                       ...   \n",
       "25718                             NaN                       NaN   \n",
       "25719                             NaN                       NaN   \n",
       "25720                             NaN                       NaN   \n",
       "25721                             NaN                       NaN   \n",
       "25722                             NaN                       NaN   \n",
       "\n",
       "                                            href formula  \\\n",
       "0      http://sharkattackfile.net/spreadsheets/pdf_di...   \n",
       "1      http://sharkattackfile.net/spreadsheets/pdf_di...   \n",
       "2      http://sharkattackfile.net/spreadsheets/pdf_di...   \n",
       "3      http://sharkattackfile.net/spreadsheets/pdf_di...   \n",
       "4      http://sharkattackfile.net/spreadsheets/pdf_di...   \n",
       "...                                                  ...   \n",
       "25718                                                NaN   \n",
       "25719                                                NaN   \n",
       "25720                                                NaN   \n",
       "25721                                                NaN   \n",
       "25722                                                NaN   \n",
       "\n",
       "                                                    href Case Number.1  \\\n",
       "0      http://sharkattackfile.net/spreadsheets/pdf_di...    2018.06.25   \n",
       "1      http://sharkattackfile.net/spreadsheets/pdf_di...    2018.06.18   \n",
       "2      http://sharkattackfile.net/spreadsheets/pdf_di...    2018.06.09   \n",
       "3      http://sharkattackfile.net/spreadsheets/pdf_di...    2018.06.08   \n",
       "4      http://sharkattackfile.net/spreadsheets/pdf_di...    2018.06.04   \n",
       "...                                                  ...           ...   \n",
       "25718                                                NaN           NaN   \n",
       "25719                                                NaN           NaN   \n",
       "25720                                                NaN           NaN   \n",
       "25721                                                NaN           NaN   \n",
       "25722                                                NaN           NaN   \n",
       "\n",
       "      Case Number.2 original order Unnamed: 22 Unnamed: 23  \n",
       "0        2018.06.25         6303.0         NaN         NaN  \n",
       "1        2018.06.18         6302.0         NaN         NaN  \n",
       "2        2018.06.09         6301.0         NaN         NaN  \n",
       "3        2018.06.08         6300.0         NaN         NaN  \n",
       "4        2018.06.04         6299.0         NaN         NaN  \n",
       "...             ...            ...         ...         ...  \n",
       "25718           NaN            NaN         NaN         NaN  \n",
       "25719           NaN            NaN         NaN         NaN  \n",
       "25720           NaN            NaN         NaN         NaN  \n",
       "25721           NaN            NaN         NaN         NaN  \n",
       "25722           NaN            NaN         NaN         NaN  \n",
       "\n",
       "[25723 rows x 24 columns]"
      ]
     },
     "execution_count": 2,
     "metadata": {},
     "output_type": "execute_result"
    }
   ],
   "source": [
    "pds_age = pd.read_csv(\"attacks.csv\", encoding = \"ISO-8859-1\") #while downloading the document I encounter an error, which I look for on google and get they way of solving it\n",
    "pds_age"
   ]
  },
  {
   "cell_type": "code",
   "execution_count": 56,
   "id": "bdee57a9",
   "metadata": {},
   "outputs": [],
   "source": [
    "pds_age.dropna(subset = ['Age'], inplace=True)"
   ]
  },
  {
   "cell_type": "code",
   "execution_count": 4,
   "id": "4a905570",
   "metadata": {},
   "outputs": [
    {
     "data": {
      "text/plain": [
       "array(['57', '11', '48', '18', '52', '15', '12', '32', '10', '21', '34',\n",
       "       '30', '60', '33', '29', '54', '41', '37', '56', '19', '25', '69',\n",
       "       '38', '55', '35', '46', '45', '14', '40s', '28', '20', '24', '26',\n",
       "       '49', '22', '7', '31', '17', '40', '13', '42', '3', '8', '50',\n",
       "       '16', '82', '73', '20s', '68', '51', '39', '58', 'Teen', '47',\n",
       "       '61', '65', '36', '66', '43', '60s', '9', '72', '59', '6', '27',\n",
       "       '64', '23', '71', '44', '62', '63', '70', '18 months', '53', '30s',\n",
       "       '50s', 'teen', '77', '74', '28 & 26', '5', '86', '18 or 20',\n",
       "       '12 or 13', '46 & 34', '28, 23 & 30', 'Teens', '36 & 26',\n",
       "       '8 or 10', '84', '\\xa0 ', ' ', '30 or 36', '6½', '21 & ?', '75',\n",
       "       '33 or 37', 'mid-30s', '23 & 20', ' 30', '7      &    31', ' 28',\n",
       "       '20?', \"60's\", '32 & 30', '16 to 18', '87', '67', 'Elderly',\n",
       "       'mid-20s', 'Ca. 33', '74 ', '45 ', '21 or 26', '20 ', '>50',\n",
       "       '18 to 22', 'adult', '9 & 12', '? & 19', '9 months', '25 to 35',\n",
       "       '23 & 26', '1', '(adult)', '33 & 37', '25 or 28',\n",
       "       '37, 67, 35, 27,  ? & 27', '21, 34,24 & 35', '30 & 32', '50 & 30',\n",
       "       '17 & 35', 'X', '\"middle-age\"', '13 or 18', '34 & 19', '33 & 26',\n",
       "       '2 to 3 months', 'MAKE LINE GREEN', ' 43', '81', '\"young\"',\n",
       "       '7 or 8', '78', '17 & 16', 'F', 'Both 11', '9 or 10', 'young',\n",
       "       '36 & 23', '  ', 'A.M.', '?    &   14', '10 or 12', '31 or 33',\n",
       "       '2½', '13 or 14'], dtype=object)"
      ]
     },
     "execution_count": 4,
     "metadata": {},
     "output_type": "execute_result"
    }
   ],
   "source": [
    "pds_age[\"Age\"].unique()"
   ]
  },
  {
   "cell_type": "code",
   "execution_count": 5,
   "id": "a83fbcf8",
   "metadata": {},
   "outputs": [
    {
     "data": {
      "text/plain": [
       "0"
      ]
     },
     "execution_count": 5,
     "metadata": {},
     "output_type": "execute_result"
    }
   ],
   "source": [
    "# 1. Quitar la S\n",
    "# 2. pds_age[pds_age[\"Age\"] == \"18 months\"][\"Age\"].apply(months_to_year)\n",
    "# 3. Media dos strings\n",
    "\n",
    "def months_to_year (str_):\n",
    "    primero = str_.split(\" \")[0]\n",
    "    year = int(primero) // 12\n",
    "    return year\n",
    "\n",
    "months_to_year (\"9 month\")\n",
    "\n"
   ]
  },
  {
   "cell_type": "code",
   "execution_count": 6,
   "id": "3519e879",
   "metadata": {},
   "outputs": [
    {
     "data": {
      "text/plain": [
       "0             57\n",
       "1             11\n",
       "2             48\n",
       "6             18\n",
       "7             52\n",
       "          ...   \n",
       "6243          16\n",
       "6254          50\n",
       "6265    13 or 14\n",
       "6276          16\n",
       "6301          15\n",
       "Name: Age, Length: 3471, dtype: object"
      ]
     },
     "execution_count": 6,
     "metadata": {},
     "output_type": "execute_result"
    }
   ],
   "source": [
    "pds_age[\"Age\"]"
   ]
  },
  {
   "cell_type": "code",
   "execution_count": 7,
   "id": "2abc0227",
   "metadata": {},
   "outputs": [],
   "source": [
    "to_drop = ['Unnamed: 22','Unnamed: 23','href formula','href','Case Number','Case Number.2','Case Number.1','original order','pdf','Investigator or Source']\n",
    "pds_age.drop(to_drop, inplace=True, axis=1)"
   ]
  },
  {
   "cell_type": "code",
   "execution_count": 8,
   "id": "ea232aa1",
   "metadata": {},
   "outputs": [],
   "source": [
    "def media_dos_numeros (str_):\n",
    "    try:\n",
    "        if \"&\" in str_:\n",
    "            dos_numeros = str_.split(\"&\")\n",
    "            return (int(dos_numeros[0]) + int(dos_numeros[1])/2)\n",
    "\n",
    "        elif \"or\" in str_:\n",
    "            dos_numeros = str_.split(\"or\")\n",
    "            return (int(dos_numeros[0]) + int(dos_numeros[1])/2)\n",
    "\n",
    "        elif \"to\" in str_:\n",
    "            dos_numeros = str_.split(\"to\")\n",
    "            return (int(dos_numeros[0]) + int(dos_numeros[1])/2)\n",
    "    except:\n",
    "        return str_\n",
    "    return str_"
   ]
  },
  {
   "cell_type": "code",
   "execution_count": 9,
   "id": "6ebc7888",
   "metadata": {},
   "outputs": [
    {
     "data": {
      "text/html": [
       "<div>\n",
       "<style scoped>\n",
       "    .dataframe tbody tr th:only-of-type {\n",
       "        vertical-align: middle;\n",
       "    }\n",
       "\n",
       "    .dataframe tbody tr th {\n",
       "        vertical-align: top;\n",
       "    }\n",
       "\n",
       "    .dataframe thead th {\n",
       "        text-align: right;\n",
       "    }\n",
       "</style>\n",
       "<table border=\"1\" class=\"dataframe\">\n",
       "  <thead>\n",
       "    <tr style=\"text-align: right;\">\n",
       "      <th></th>\n",
       "      <th>Date</th>\n",
       "      <th>Year</th>\n",
       "      <th>Type</th>\n",
       "      <th>Country</th>\n",
       "      <th>Area</th>\n",
       "      <th>Location</th>\n",
       "      <th>Activity</th>\n",
       "      <th>Name</th>\n",
       "      <th>Sex</th>\n",
       "      <th>Age</th>\n",
       "      <th>Injury</th>\n",
       "      <th>Fatal (Y/N)</th>\n",
       "      <th>Time</th>\n",
       "      <th>Species</th>\n",
       "    </tr>\n",
       "  </thead>\n",
       "  <tbody>\n",
       "    <tr>\n",
       "      <th>2707</th>\n",
       "      <td>23-Oct-1988</td>\n",
       "      <td>1988.0</td>\n",
       "      <td>Unprovoked</td>\n",
       "      <td>USA</td>\n",
       "      <td>Oregon</td>\n",
       "      <td>Indian Beach, Ecola State Park, just north of ...</td>\n",
       "      <td>Surfing (sitting on his board)</td>\n",
       "      <td>Wyndham Kapan</td>\n",
       "      <td>M</td>\n",
       "      <td>21</td>\n",
       "      <td>Leg bitten &amp; femur fractured</td>\n",
       "      <td>N</td>\n",
       "      <td>17h30</td>\n",
       "      <td>5.5 m to 6 m [18' to 20']  white shark</td>\n",
       "    </tr>\n",
       "  </tbody>\n",
       "</table>\n",
       "</div>"
      ],
      "text/plain": [
       "             Date    Year        Type Country    Area  \\\n",
       "2707  23-Oct-1988  1988.0  Unprovoked     USA  Oregon   \n",
       "\n",
       "                                               Location  \\\n",
       "2707  Indian Beach, Ecola State Park, just north of ...   \n",
       "\n",
       "                            Activity           Name Sex  Age  \\\n",
       "2707  Surfing (sitting on his board)  Wyndham Kapan    M  21   \n",
       "\n",
       "                            Injury Fatal (Y/N)   Time  \\\n",
       "2707  Leg bitten & femur fractured           N  17h30   \n",
       "\n",
       "                                    Species   \n",
       "2707  5.5 m to 6 m [18' to 20']  white shark  "
      ]
     },
     "execution_count": 9,
     "metadata": {},
     "output_type": "execute_result"
    }
   ],
   "source": [
    "pds_age[\"Age\"] = pds_age[\"Age\"].apply(media_dos_numeros)\n",
    "pds_age.sample()"
   ]
  },
  {
   "cell_type": "code",
   "execution_count": 10,
   "id": "51f5fe22",
   "metadata": {},
   "outputs": [
    {
     "data": {
      "text/plain": [
       "Series([], Name: Age, dtype: object)"
      ]
     },
     "execution_count": 10,
     "metadata": {},
     "output_type": "execute_result"
    }
   ],
   "source": [
    "pds_age[pds_age[\"Age\"] == \"18 month\"][\"Age\"].apply(months_to_year)"
   ]
  },
  {
   "cell_type": "code",
   "execution_count": 11,
   "id": "29dd57a7",
   "metadata": {},
   "outputs": [
    {
     "data": {
      "text/plain": [
       "Series([], Name: Age, dtype: object)"
      ]
     },
     "execution_count": 11,
     "metadata": {},
     "output_type": "execute_result"
    }
   ],
   "source": [
    "pds_age[pds_age[\"Age\"] == \"9 month\"][\"Age\"].apply(months_to_year)"
   ]
  },
  {
   "cell_type": "markdown",
   "id": "23d09c32",
   "metadata": {},
   "source": [
    "`dropping nan values`"
   ]
  },
  {
   "cell_type": "code",
   "execution_count": 12,
   "id": "97c92d20",
   "metadata": {},
   "outputs": [],
   "source": [
    "pds_age.dropna(how = 'all', inplace = True)"
   ]
  },
  {
   "cell_type": "code",
   "execution_count": 13,
   "id": "0db8087a",
   "metadata": {},
   "outputs": [],
   "source": [
    "pds_age[\"Age\"] = pds_age[\"Age\"].apply(lambda x: np.nan if x == \"\" else x)"
   ]
  },
  {
   "cell_type": "code",
   "execution_count": 14,
   "id": "fe8f1e7f",
   "metadata": {},
   "outputs": [],
   "source": [
    "pds_age[\"Age\"].dropna(inplace=True)"
   ]
  },
  {
   "cell_type": "markdown",
   "id": "5fc3c001",
   "metadata": {},
   "source": [
    "`str.replace`"
   ]
  },
  {
   "cell_type": "code",
   "execution_count": 15,
   "id": "d039fd62",
   "metadata": {},
   "outputs": [],
   "source": [
    "pds_age[\"Age\"] = pds_age[\"Age\"].str.replace('adult', '40')"
   ]
  },
  {
   "cell_type": "code",
   "execution_count": 16,
   "id": "df887dc8",
   "metadata": {},
   "outputs": [],
   "source": [
    "pds_age[\"Age\"] = pds_age[\"Age\"].str.replace('middle-age', '40')"
   ]
  },
  {
   "cell_type": "code",
   "execution_count": 17,
   "id": "e7188e64",
   "metadata": {},
   "outputs": [],
   "source": [
    "pds_age[\"Age\"] = pds_age[\"Age\"].str.replace('Elderly', '70')"
   ]
  },
  {
   "cell_type": "code",
   "execution_count": 18,
   "id": "6c87bf71",
   "metadata": {},
   "outputs": [],
   "source": [
    "pds_age[\"Age\"] = pds_age[\"Age\"].str.replace('Both 11', '11')"
   ]
  },
  {
   "cell_type": "code",
   "execution_count": 19,
   "id": "8816ae53",
   "metadata": {},
   "outputs": [],
   "source": [
    "pds_age[\"Age\"] = pds_age[\"Age\"].str.replace('2½', '2')"
   ]
  },
  {
   "cell_type": "code",
   "execution_count": 20,
   "id": "c6b58a4a",
   "metadata": {},
   "outputs": [],
   "source": [
    "pds_age[\"Age\"] = pds_age[\"Age\"].str.replace('6½', '6')"
   ]
  },
  {
   "cell_type": "code",
   "execution_count": 21,
   "id": "b6ecb2d0",
   "metadata": {},
   "outputs": [],
   "source": [
    "pds_age[\"Age\"] = pds_age[\"Age\"].str.replace('>50', '50')"
   ]
  },
  {
   "cell_type": "code",
   "execution_count": 22,
   "id": "e7f490eb",
   "metadata": {},
   "outputs": [],
   "source": [
    "pds_age[\"Age\"] = pds_age[\"Age\"].str.replace('25 to 35', '30')"
   ]
  },
  {
   "cell_type": "code",
   "execution_count": 23,
   "id": "03398f63",
   "metadata": {},
   "outputs": [],
   "source": [
    "pds_age[\"Age\"] = pds_age[\"Age\"].str.replace(\"7 or 8\", '8')"
   ]
  },
  {
   "cell_type": "code",
   "execution_count": 24,
   "id": "1bc59d47",
   "metadata": {},
   "outputs": [],
   "source": [
    "pds_age[\"Age\"] = pds_age[\"Age\"].str.replace(\"9 or 10\", '10')"
   ]
  },
  {
   "cell_type": "code",
   "execution_count": 25,
   "id": "b6ca872b",
   "metadata": {},
   "outputs": [],
   "source": [
    "pds_age[\"Age\"] = pds_age[\"Age\"].str.replace(\"8 or 10\", '10')"
   ]
  },
  {
   "cell_type": "code",
   "execution_count": 26,
   "id": "cd501942",
   "metadata": {},
   "outputs": [],
   "source": [
    "pds_age[\"Age\"] = pds_age[\"Age\"].str.replace(\"10 or 12\", '12')"
   ]
  },
  {
   "cell_type": "code",
   "execution_count": 27,
   "id": "fc8b6411",
   "metadata": {},
   "outputs": [],
   "source": [
    "pds_age[\"Age\"] = pds_age[\"Age\"].str.replace(\"12 or 13\", '13')"
   ]
  },
  {
   "cell_type": "code",
   "execution_count": 28,
   "id": "0a0368b0",
   "metadata": {},
   "outputs": [],
   "source": [
    "pds_age[\"Age\"] = pds_age[\"Age\"].str.replace(\"13 or 14\", '14')"
   ]
  },
  {
   "cell_type": "code",
   "execution_count": 29,
   "id": "3ec5fff9",
   "metadata": {},
   "outputs": [],
   "source": [
    "pds_age[\"Age\"] = pds_age[\"Age\"].str.replace(\"13 or 18\", '18')"
   ]
  },
  {
   "cell_type": "code",
   "execution_count": 30,
   "id": "0d61a670",
   "metadata": {},
   "outputs": [],
   "source": [
    "pds_age[\"Age\"] = pds_age[\"Age\"].str.replace(\"16 or 18\", '18')"
   ]
  },
  {
   "cell_type": "code",
   "execution_count": 31,
   "id": "fe62ef3f",
   "metadata": {},
   "outputs": [],
   "source": [
    "pds_age[\"Age\"] = pds_age[\"Age\"].str.replace(\"18 or 20\", '20')"
   ]
  },
  {
   "cell_type": "code",
   "execution_count": 32,
   "id": "72a29e98",
   "metadata": {},
   "outputs": [],
   "source": [
    "pds_age[\"Age\"] = pds_age[\"Age\"].str.replace(\"21 or 26\", '26')"
   ]
  },
  {
   "cell_type": "code",
   "execution_count": 33,
   "id": "2b66e08d",
   "metadata": {},
   "outputs": [],
   "source": [
    "pds_age[\"Age\"] = pds_age[\"Age\"].str.replace(\"25 or 28\", '28')"
   ]
  },
  {
   "cell_type": "code",
   "execution_count": 34,
   "id": "2a990aea",
   "metadata": {},
   "outputs": [],
   "source": [
    "pds_age[\"Age\"] = pds_age[\"Age\"].str.replace(\"30 or 36\", '36')"
   ]
  },
  {
   "cell_type": "code",
   "execution_count": 35,
   "id": "3e9d8a23",
   "metadata": {},
   "outputs": [],
   "source": [
    "pds_age[\"Age\"] = pds_age[\"Age\"].str.replace(\"31 or 33\", '33')"
   ]
  },
  {
   "cell_type": "code",
   "execution_count": 36,
   "id": "ba58a171",
   "metadata": {},
   "outputs": [],
   "source": [
    "pds_age[\"Age\"] = pds_age[\"Age\"].str.replace(\"33 or 37\", '37')"
   ]
  },
  {
   "cell_type": "code",
   "execution_count": 37,
   "id": "d30de8dc",
   "metadata": {},
   "outputs": [],
   "source": [
    "pds_age[\"Age\"] = pds_age[\"Age\"].str.replace(\"28&26\", '27') #calculo la media"
   ]
  },
  {
   "cell_type": "code",
   "execution_count": 38,
   "id": "9ecff706",
   "metadata": {},
   "outputs": [],
   "source": [
    "pds_age[\"Age\"] = pds_age[\"Age\"].str.replace(\"46&34\", '40') #calculo la media"
   ]
  },
  {
   "cell_type": "code",
   "execution_count": 39,
   "id": "bf411d71",
   "metadata": {},
   "outputs": [],
   "source": [
    "pds_age[\"Age\"] = pds_age[\"Age\"].str.replace(\"32&30\", '31')"
   ]
  },
  {
   "cell_type": "code",
   "execution_count": 40,
   "id": "346d4caf",
   "metadata": {},
   "outputs": [],
   "source": [
    "pds_age[\"Age\"] = pds_age[\"Age\"].str.replace(\"23&26\", '24')"
   ]
  },
  {
   "cell_type": "code",
   "execution_count": 55,
   "id": "c7b1ba22",
   "metadata": {},
   "outputs": [],
   "source": [
    "pds_age[\"Age\"] = pds_age[\"Age\"].str.replace(\"23&20\", '21')"
   ]
  },
  {
   "cell_type": "code",
   "execution_count": 42,
   "id": "8001ecb4",
   "metadata": {},
   "outputs": [],
   "source": [
    "pds_age[\"Age\"] = pds_age[\"Age\"].str.replace(\"33&37\", '35')"
   ]
  },
  {
   "cell_type": "code",
   "execution_count": 43,
   "id": "51ab9866",
   "metadata": {},
   "outputs": [],
   "source": [
    "pds_age[\"Age\"] = pds_age[\"Age\"].str.replace(\"34&19\", '26')"
   ]
  },
  {
   "cell_type": "code",
   "execution_count": 54,
   "id": "bd7d2bc0",
   "metadata": {},
   "outputs": [],
   "source": [
    "pds_age[\"Age\"] = pds_age[\"Age\"].str.replace(\"36&23\", '29')"
   ]
  },
  {
   "cell_type": "code",
   "execution_count": 53,
   "id": "940107b1",
   "metadata": {},
   "outputs": [],
   "source": [
    "pds_age[\"Age\"] = pds_age[\"Age\"].str.replace(\"30&32\", '31')"
   ]
  },
  {
   "cell_type": "code",
   "execution_count": 52,
   "id": "2cf70235",
   "metadata": {},
   "outputs": [],
   "source": [
    "pds_age[\"Age\"] = pds_age[\"Age\"].str.replace(\"33&26\", '29')"
   ]
  },
  {
   "cell_type": "code",
   "execution_count": 47,
   "id": "fba4e568",
   "metadata": {},
   "outputs": [],
   "source": [
    "pds_age[\"Age\"] = pds_age[\"Age\"].str.replace(\"18to22\", '20')"
   ]
  },
  {
   "cell_type": "code",
   "execution_count": 48,
   "id": "96100b73",
   "metadata": {},
   "outputs": [],
   "source": [
    "pds_age[\"Age\"] = pds_age[\"Age\"].str.replace(\"s\", '')"
   ]
  },
  {
   "cell_type": "markdown",
   "id": "3f2923e7",
   "metadata": {},
   "source": [
    "`str.contains`"
   ]
  },
  {
   "cell_type": "code",
   "execution_count": 49,
   "id": "47ba9665",
   "metadata": {},
   "outputs": [
    {
     "data": {
      "text/plain": [
       "array(['57', '11', '48', '18', '52', '15', '12', '32', '10', '21', '34',\n",
       "       '30', '60', '33', '29', '54', '41', '37', '56', '19', '25', '69',\n",
       "       '38', '55', '35', '46', '45', '14', '40', '28', '20', '24', '26',\n",
       "       '49', '22', '7', '31', '17', '13', '42', '3', '8', '50', '16',\n",
       "       '82', '73', '68', '51', '39', '58', 'Teen', '47', '61', '65', '36',\n",
       "       '66', '43', '9', '72', '59', '6', '27', '64', '23', '71', '44',\n",
       "       '62', '63', '70', '18 month', '53', 'teen', '77', '74', nan, '5',\n",
       "       '86', '28, 23 & 30', '84', '\\xa0 ', ' ', '21 & ?', '75', 'mid-30',\n",
       "       ' 30', ' 28', '20?', \"60'\", '87', '67', 'mid-20', 'Ca. 33', '74 ',\n",
       "       '45 ', '20 ', '? & 19', '9 month', '1', '(40)',\n",
       "       '37, 67, 35, 27,  ? & 27', '21, 34,24 & 35', 'X', '\"40\"',\n",
       "       '2 to 3 month', 'MAKE LINE GREEN', ' 43', '81', '\"young\"', '78',\n",
       "       'F', 'young', '  ', 'A.M.', '?    &   14', '2'], dtype=object)"
      ]
     },
     "execution_count": 49,
     "metadata": {},
     "output_type": "execute_result"
    }
   ],
   "source": [
    "pds_age[\"Age\"].unique()"
   ]
  },
  {
   "cell_type": "code",
   "execution_count": 57,
   "id": "d56755df",
   "metadata": {},
   "outputs": [],
   "source": [
    "pds_age = pds_age[~pds_age['Age'].str.contains('\\xa0')]"
   ]
  },
  {
   "cell_type": "code",
   "execution_count": 58,
   "id": "3dc2c47f",
   "metadata": {},
   "outputs": [],
   "source": [
    "pds_age = pds_age[~pds_age['Age'].str.contains('X')]"
   ]
  },
  {
   "cell_type": "code",
   "execution_count": 59,
   "id": "dcf7cbcc",
   "metadata": {},
   "outputs": [],
   "source": [
    "pds_age = pds_age[~pds_age['Age'].str.contains('F')]"
   ]
  },
  {
   "cell_type": "code",
   "execution_count": 60,
   "id": "cef63d03",
   "metadata": {},
   "outputs": [],
   "source": [
    "pds_age = pds_age[~pds_age['Age'].str.contains('A.M.')]"
   ]
  },
  {
   "cell_type": "code",
   "execution_count": 61,
   "id": "6704f781",
   "metadata": {},
   "outputs": [],
   "source": [
    "pds_age = pds_age[~pds_age['Age'].str.contains('teen')]"
   ]
  },
  {
   "cell_type": "code",
   "execution_count": 62,
   "id": "5b1b08af",
   "metadata": {},
   "outputs": [],
   "source": [
    "pds_age = pds_age[~pds_age['Age'].str.contains('Teen')]"
   ]
  },
  {
   "cell_type": "code",
   "execution_count": 63,
   "id": "14301ba1",
   "metadata": {},
   "outputs": [],
   "source": [
    "pds_age = pds_age[~pds_age['Age'].str.contains('young')]"
   ]
  },
  {
   "cell_type": "code",
   "execution_count": 64,
   "id": "2a4cacd2",
   "metadata": {},
   "outputs": [],
   "source": [
    "pds_age = pds_age[~pds_age['Age'].str.contains('7&31')] #as we can't determine the age and it's affecting the info we need, we drop it from our data"
   ]
  },
  {
   "cell_type": "code",
   "execution_count": 65,
   "id": "8d85887d",
   "metadata": {},
   "outputs": [],
   "source": [
    "pds_age = pds_age[~pds_age['Age'].str.contains('17&35')]"
   ]
  },
  {
   "cell_type": "code",
   "execution_count": 66,
   "id": "0ef11d27",
   "metadata": {},
   "outputs": [],
   "source": [
    "pds_age = pds_age[~pds_age['Age'].str.contains('16to18')]"
   ]
  },
  {
   "cell_type": "code",
   "execution_count": 67,
   "id": "ac16a59e",
   "metadata": {},
   "outputs": [],
   "source": [
    "pds_age = pds_age[~pds_age['Age'].str.contains('MAKE LINE GREEN')]"
   ]
  },
  {
   "cell_type": "code",
   "execution_count": 68,
   "id": "0b78620d",
   "metadata": {},
   "outputs": [
    {
     "data": {
      "text/plain": [
       "array(['57', '11', '48', '18', '52', '15', '12', '32', '10', '21', '34',\n",
       "       '30', '60', '33', '29', '54', '41', '37', '56', '19', '25', '69',\n",
       "       '38', '55', '35', '46', '45', '14', '40', '28', '20', '24', '26',\n",
       "       '49', '22', '7', '31', '17', '13', '42', '3', '8', '50', '16',\n",
       "       '82', '73', '68', '51', '39', '58', '47', '61', '65', '36', '66',\n",
       "       '43', '9', '72', '59', '6', '27', '64', '23', '71', '44', '62',\n",
       "       '63', '70', '18 month', '53', '77', '74', '5', '86', '28, 23 & 30',\n",
       "       '84', ' ', '21 & ?', '75', 'mid-30', ' 30', ' 28', '20?', \"60'\",\n",
       "       '87', '67', 'mid-20', 'Ca. 33', '74 ', '45 ', '20 ', '? & 19',\n",
       "       '9 month', '1', '(40)', '37, 67, 35, 27,  ? & 27',\n",
       "       '21, 34,24 & 35', '\"40\"', '2 to 3 month', ' 43', '81', '78', '  ',\n",
       "       '?    &   14', '2'], dtype=object)"
      ]
     },
     "execution_count": 68,
     "metadata": {},
     "output_type": "execute_result"
    }
   ],
   "source": [
    "pds_age[\"Age\"].unique()"
   ]
  },
  {
   "cell_type": "markdown",
   "id": "d8355e03",
   "metadata": {},
   "source": [
    "`lambda`"
   ]
  },
  {
   "cell_type": "code",
   "execution_count": 69,
   "id": "6277b1b3",
   "metadata": {},
   "outputs": [],
   "source": [
    "pds_age[\"Age\"] = pds_age[\"Age\"].apply(lambda x: x.replace(\"Ca.\", \"\"))"
   ]
  },
  {
   "cell_type": "code",
   "execution_count": 70,
   "id": "b30ea98d",
   "metadata": {},
   "outputs": [],
   "source": [
    "pds_age[\"Age\"] = pds_age[\"Age\"].apply(lambda x: x.replace(\"mid-\", \"\"))"
   ]
  },
  {
   "cell_type": "code",
   "execution_count": 71,
   "id": "7e4c2342",
   "metadata": {},
   "outputs": [],
   "source": [
    "pds_age[\"Age\"] = pds_age[\"Age\"].apply(lambda x: x.replace(\"(\", \"\"))"
   ]
  },
  {
   "cell_type": "code",
   "execution_count": 72,
   "id": "28967806",
   "metadata": {},
   "outputs": [],
   "source": [
    "pds_age[\"Age\"] = pds_age[\"Age\"].apply(lambda x: x.replace(\")\", \"\"))"
   ]
  },
  {
   "cell_type": "code",
   "execution_count": 73,
   "id": "b1e2864a",
   "metadata": {},
   "outputs": [],
   "source": [
    "pds_age[\"Age\"] = pds_age[\"Age\"].apply(lambda x: x.replace(\"''\", \"\"))"
   ]
  },
  {
   "cell_type": "code",
   "execution_count": 74,
   "id": "e94942e7",
   "metadata": {},
   "outputs": [],
   "source": [
    "pds_age[\"Age\"] = pds_age[\"Age\"].apply(lambda x: x.replace(\"'\", \"\"))"
   ]
  },
  {
   "cell_type": "code",
   "execution_count": 75,
   "id": "1bc009cb",
   "metadata": {},
   "outputs": [],
   "source": [
    "pds_age[\"Age\"] = pds_age[\"Age\"].apply(lambda x: x.replace('\"', \"\"))"
   ]
  },
  {
   "cell_type": "code",
   "execution_count": 76,
   "id": "30d88b53",
   "metadata": {},
   "outputs": [],
   "source": [
    "pds_age[\"Age\"] = pds_age[\"Age\"].apply(lambda x: x.replace(\"?\", \"\"))"
   ]
  },
  {
   "cell_type": "code",
   "execution_count": 77,
   "id": "dbbc6cb1",
   "metadata": {},
   "outputs": [],
   "source": [
    "pds_age[\"Age\"] = pds_age[\"Age\"].apply(lambda x: x.replace(\"?\", \"\"))"
   ]
  },
  {
   "cell_type": "code",
   "execution_count": 78,
   "id": "426517a1",
   "metadata": {},
   "outputs": [],
   "source": [
    "pds_age[\"Age\"] = pds_age[\"Age\"].apply(lambda x: x.replace(\"7      &    31\", \"\"))"
   ]
  },
  {
   "cell_type": "code",
   "execution_count": 79,
   "id": "f0eae29d",
   "metadata": {},
   "outputs": [],
   "source": [
    "pds_age[\"Age\"] = pds_age[\"Age\"].apply(lambda x: x.replace(\"2 to 3 month\", \"1\"))"
   ]
  },
  {
   "cell_type": "code",
   "execution_count": 80,
   "id": "00c5054c",
   "metadata": {},
   "outputs": [],
   "source": [
    "pds_age[\"Age\"] = pds_age[\"Age\"].apply(lambda x: x.replace(\"month\", \"\"))"
   ]
  },
  {
   "cell_type": "code",
   "execution_count": 81,
   "id": "2e215e85",
   "metadata": {},
   "outputs": [
    {
     "data": {
      "text/plain": [
       "array(['57', '11', '48', '18', '52', '15', '12', '32', '10', '21', '34',\n",
       "       '30', '60', '33', '29', '54', '41', '37', '56', '19', '25', '69',\n",
       "       '38', '55', '35', '46', '45', '14', '40', '28', '20', '24', '26',\n",
       "       '49', '22', '7', '31', '17', '13', '42', '3', '8', '50', '16',\n",
       "       '82', '73', '68', '51', '39', '58', '47', '61', '65', '36', '66',\n",
       "       '43', '9', '72', '59', '6', '27', '64', '23', '71', '44', '62',\n",
       "       '63', '70', '18 ', '53', '77', '74', '5', '86', '28, 23 & 30',\n",
       "       '84', ' ', '21 & ', '75', ' 30', ' 28', '87', '67', ' 33', '74 ',\n",
       "       '45 ', '20 ', ' & 19', '9 ', '1', '37, 67, 35, 27,   & 27',\n",
       "       '21, 34,24 & 35', ' 43', '81', '78', '  ', '    &   14', '2'],\n",
       "      dtype=object)"
      ]
     },
     "execution_count": 81,
     "metadata": {},
     "output_type": "execute_result"
    }
   ],
   "source": [
    "pds_age[\"Age\"].unique()"
   ]
  },
  {
   "cell_type": "code",
   "execution_count": 82,
   "id": "b6928c01",
   "metadata": {},
   "outputs": [],
   "source": [
    "pds_age[\"Age\"] = pds_age[\"Age\"].apply(lambda x: x.replace(\"&?\", \"\"))"
   ]
  },
  {
   "cell_type": "code",
   "execution_count": 83,
   "id": "296028be",
   "metadata": {},
   "outputs": [],
   "source": [
    "pds_age[\"Age\"] = pds_age[\"Age\"].apply(lambda x: x.replace(\"?&\", \"\"))"
   ]
  },
  {
   "cell_type": "code",
   "execution_count": 84,
   "id": "abdbbc8c",
   "metadata": {},
   "outputs": [],
   "source": [
    "pds_age[\"Age\"] = pds_age[\"Age\"].apply(lambda x: x.replace(\"&\", \"\"))"
   ]
  },
  {
   "cell_type": "code",
   "execution_count": 85,
   "id": "dd104db4",
   "metadata": {},
   "outputs": [],
   "source": [
    "pds_age[\"Age\"] = pds_age[\"Age\"].apply(lambda x: x.replace(\"       \", \"\"))"
   ]
  },
  {
   "cell_type": "code",
   "execution_count": 86,
   "id": "7553b485",
   "metadata": {},
   "outputs": [],
   "source": [
    "pds_age[\"Age\"] = pds_age[\"Age\"].apply(lambda x: x.replace(\"  \", \"\"))"
   ]
  },
  {
   "cell_type": "code",
   "execution_count": 87,
   "id": "4b14e3d0",
   "metadata": {},
   "outputs": [],
   "source": [
    "pds_age[\"Age\"] = pds_age[\"Age\"].apply(lambda x: x.replace(\" \", \"\"))"
   ]
  },
  {
   "cell_type": "code",
   "execution_count": 88,
   "id": "6a3ff05a",
   "metadata": {},
   "outputs": [],
   "source": [
    "pds_age[\"Age\"] = pds_age[\"Age\"].str.replace(\"21,34,2435\", '38')"
   ]
  },
  {
   "cell_type": "code",
   "execution_count": 89,
   "id": "861f0b08",
   "metadata": {},
   "outputs": [],
   "source": [
    "pds_age[\"Age\"] = pds_age[\"Age\"].str.replace(\"28,2330\", '27') #calculo la media"
   ]
  },
  {
   "cell_type": "code",
   "execution_count": 90,
   "id": "42a159e5",
   "metadata": {},
   "outputs": [],
   "source": [
    "pds_age[\"Age\"] = pds_age[\"Age\"].str.replace(\"37,67,35,27,27\", '28')"
   ]
  },
  {
   "cell_type": "code",
   "execution_count": 91,
   "id": "7e27f27e",
   "metadata": {},
   "outputs": [
    {
     "data": {
      "text/plain": [
       "array(['57', '11', '48', '18', '52', '15', '12', '32', '10', '21', '34',\n",
       "       '30', '60', '33', '29', '54', '41', '37', '56', '19', '25', '69',\n",
       "       '38', '55', '35', '46', '45', '14', '40', '28', '20', '24', '26',\n",
       "       '49', '22', '7', '31', '17', '13', '42', '3', '8', '50', '16',\n",
       "       '82', '73', '68', '51', '39', '58', '47', '61', '65', '36', '66',\n",
       "       '43', '9', '72', '59', '6', '27', '64', '23', '71', '44', '62',\n",
       "       '63', '70', '53', '77', '74', '5', '86', '84', '', '75', '87',\n",
       "       '67', '1', '81', '78', '2'], dtype=object)"
      ]
     },
     "execution_count": 91,
     "metadata": {},
     "output_type": "execute_result"
    }
   ],
   "source": [
    "pds_age[\"Age\"].unique()"
   ]
  },
  {
   "cell_type": "code",
   "execution_count": 197,
   "id": "3d8097a1",
   "metadata": {},
   "outputs": [
    {
     "ename": "SyntaxError",
     "evalue": "EOL while scanning string literal (914394803.py, line 2)",
     "output_type": "error",
     "traceback": [
      "\u001b[0;36m  File \u001b[0;32m\"/var/folders/zw/_3ykk0zx0ql2ch8wbzdt6syw0000gn/T/ipykernel_61862/914394803.py\"\u001b[0;36m, line \u001b[0;32m2\u001b[0m\n\u001b[0;31m    sns.lineplot(x='Age,\u001b[0m\n\u001b[0m                         ^\u001b[0m\n\u001b[0;31mSyntaxError\u001b[0m\u001b[0;31m:\u001b[0m EOL while scanning string literal\n"
     ]
    }
   ],
   "source": [
    "data = pds_age.melt(pds_age, ['Age'])\n",
    "sns.lineplot(x='Age, value=  \n",
    "             data=data,\n",
    "             palette=['red', 'purple']);"
   ]
  },
  {
   "cell_type": "code",
   "execution_count": 195,
   "id": "57aa61ef",
   "metadata": {},
   "outputs": [],
   "source": [
    "%matplotlib inline"
   ]
  },
  {
   "cell_type": "code",
   "execution_count": 193,
   "id": "1153f8c5",
   "metadata": {},
   "outputs": [
    {
     "ename": "AttributeError",
     "evalue": "'DataFrame' object has no attribute 'kdeplot'",
     "output_type": "error",
     "traceback": [
      "\u001b[0;31m---------------------------------------------------------------------------\u001b[0m",
      "\u001b[0;31mAttributeError\u001b[0m                            Traceback (most recent call last)",
      "\u001b[0;32m/var/folders/zw/_3ykk0zx0ql2ch8wbzdt6syw0000gn/T/ipykernel_61862/625913040.py\u001b[0m in \u001b[0;36m<module>\u001b[0;34m\u001b[0m\n\u001b[0;32m----> 1\u001b[0;31m \u001b[0mpds_age\u001b[0m\u001b[0;34m.\u001b[0m\u001b[0mkdeplot\u001b[0m\u001b[0;34m(\u001b[0m\u001b[0mx\u001b[0m\u001b[0;34m=\u001b[0m\u001b[0mpds_age\u001b[0m\u001b[0;34m.\u001b[0m\u001b[0mAge\u001b[0m\u001b[0;34m)\u001b[0m\u001b[0;34m;\u001b[0m\u001b[0;34m\u001b[0m\u001b[0;34m\u001b[0m\u001b[0m\n\u001b[0m",
      "\u001b[0;32m~/opt/anaconda3/lib/python3.9/site-packages/pandas/core/generic.py\u001b[0m in \u001b[0;36m__getattr__\u001b[0;34m(self, name)\u001b[0m\n\u001b[1;32m   5573\u001b[0m         ):\n\u001b[1;32m   5574\u001b[0m             \u001b[0;32mreturn\u001b[0m \u001b[0mself\u001b[0m\u001b[0;34m[\u001b[0m\u001b[0mname\u001b[0m\u001b[0;34m]\u001b[0m\u001b[0;34m\u001b[0m\u001b[0;34m\u001b[0m\u001b[0m\n\u001b[0;32m-> 5575\u001b[0;31m         \u001b[0;32mreturn\u001b[0m \u001b[0mobject\u001b[0m\u001b[0;34m.\u001b[0m\u001b[0m__getattribute__\u001b[0m\u001b[0;34m(\u001b[0m\u001b[0mself\u001b[0m\u001b[0;34m,\u001b[0m \u001b[0mname\u001b[0m\u001b[0;34m)\u001b[0m\u001b[0;34m\u001b[0m\u001b[0;34m\u001b[0m\u001b[0m\n\u001b[0m\u001b[1;32m   5576\u001b[0m \u001b[0;34m\u001b[0m\u001b[0m\n\u001b[1;32m   5577\u001b[0m     \u001b[0;32mdef\u001b[0m \u001b[0m__setattr__\u001b[0m\u001b[0;34m(\u001b[0m\u001b[0mself\u001b[0m\u001b[0;34m,\u001b[0m \u001b[0mname\u001b[0m\u001b[0;34m:\u001b[0m \u001b[0mstr\u001b[0m\u001b[0;34m,\u001b[0m \u001b[0mvalue\u001b[0m\u001b[0;34m)\u001b[0m \u001b[0;34m->\u001b[0m \u001b[0;32mNone\u001b[0m\u001b[0;34m:\u001b[0m\u001b[0;34m\u001b[0m\u001b[0;34m\u001b[0m\u001b[0m\n",
      "\u001b[0;31mAttributeError\u001b[0m: 'DataFrame' object has no attribute 'kdeplot'"
     ]
    }
   ],
   "source": [
    "pds_age.kdeplot(x=pds_age.Age);"
   ]
  },
  {
   "cell_type": "code",
   "execution_count": 194,
   "id": "915c813f",
   "metadata": {},
   "outputs": [
    {
     "data": {
      "text/html": [
       "<div>\n",
       "<style scoped>\n",
       "    .dataframe tbody tr th:only-of-type {\n",
       "        vertical-align: middle;\n",
       "    }\n",
       "\n",
       "    .dataframe tbody tr th {\n",
       "        vertical-align: top;\n",
       "    }\n",
       "\n",
       "    .dataframe thead th {\n",
       "        text-align: right;\n",
       "    }\n",
       "</style>\n",
       "<table border=\"1\" class=\"dataframe\">\n",
       "  <thead>\n",
       "    <tr style=\"text-align: right;\">\n",
       "      <th></th>\n",
       "      <th>Age</th>\n",
       "      <th>Fatal (Y/N)</th>\n",
       "    </tr>\n",
       "  </thead>\n",
       "  <tbody>\n",
       "    <tr>\n",
       "      <th>0</th>\n",
       "      <td>Over 18</td>\n",
       "      <td>N</td>\n",
       "    </tr>\n",
       "    <tr>\n",
       "      <th>1</th>\n",
       "      <td>Over 18</td>\n",
       "      <td>N</td>\n",
       "    </tr>\n",
       "    <tr>\n",
       "      <th>2</th>\n",
       "      <td>Over 18</td>\n",
       "      <td>N</td>\n",
       "    </tr>\n",
       "    <tr>\n",
       "      <th>6</th>\n",
       "      <td>Over 18</td>\n",
       "      <td>Y</td>\n",
       "    </tr>\n",
       "    <tr>\n",
       "      <th>7</th>\n",
       "      <td>Over 18</td>\n",
       "      <td>N</td>\n",
       "    </tr>\n",
       "    <tr>\n",
       "      <th>...</th>\n",
       "      <td>...</td>\n",
       "      <td>...</td>\n",
       "    </tr>\n",
       "    <tr>\n",
       "      <th>6242</th>\n",
       "      <td>Over 18</td>\n",
       "      <td>N</td>\n",
       "    </tr>\n",
       "    <tr>\n",
       "      <th>6243</th>\n",
       "      <td>Over 18</td>\n",
       "      <td>N</td>\n",
       "    </tr>\n",
       "    <tr>\n",
       "      <th>6254</th>\n",
       "      <td>Over 18</td>\n",
       "      <td>Y</td>\n",
       "    </tr>\n",
       "    <tr>\n",
       "      <th>6276</th>\n",
       "      <td>Over 18</td>\n",
       "      <td>Y</td>\n",
       "    </tr>\n",
       "    <tr>\n",
       "      <th>6301</th>\n",
       "      <td>Over 18</td>\n",
       "      <td>Y</td>\n",
       "    </tr>\n",
       "  </tbody>\n",
       "</table>\n",
       "<p>3180 rows × 2 columns</p>\n",
       "</div>"
      ],
      "text/plain": [
       "          Age Fatal (Y/N)\n",
       "0     Over 18           N\n",
       "1     Over 18           N\n",
       "2     Over 18           N\n",
       "6     Over 18           Y\n",
       "7     Over 18           N\n",
       "...       ...         ...\n",
       "6242  Over 18           N\n",
       "6243  Over 18           N\n",
       "6254  Over 18           Y\n",
       "6276  Over 18           Y\n",
       "6301  Over 18           Y\n",
       "\n",
       "[3180 rows x 2 columns]"
      ]
     },
     "execution_count": 194,
     "metadata": {},
     "output_type": "execute_result"
    }
   ],
   "source": [
    "pds_age[\"Age\"] = pds_age[\"Age\"].apply(lambda x: \"Over 18\" if x > \"17\" else \"Under 18\")\n",
    "pds_age"
   ]
  },
  {
   "cell_type": "code",
   "execution_count": 93,
   "id": "4bc1ebea",
   "metadata": {},
   "outputs": [
    {
     "data": {
      "image/png": "[encoded data removed]",
      "text/plain": [
       "<Figure size 640x480 with 1 Axes>"
      ]
     },
     "metadata": {},
     "output_type": "display_data"
    }
   ],
   "source": [
    "sns.countplot(data=pds_age, x=\"Age\", palette=\"magma\");"
   ]
  },
  {
   "cell_type": "code",
   "execution_count": 94,
   "id": "cd75cee5",
   "metadata": {},
   "outputs": [
    {
     "data": {
      "text/plain": [
       "Over 18     2614\n",
       "Under 18     800\n",
       "Name: Age, dtype: int64"
      ]
     },
     "execution_count": 94,
     "metadata": {},
     "output_type": "execute_result"
    }
   ],
   "source": [
    "pds_age[\"Age\"].value_counts()"
   ]
  },
  {
   "cell_type": "code",
   "execution_count": 95,
   "id": "ecec4861",
   "metadata": {},
   "outputs": [
    {
     "data": {
      "text/plain": [
       "Over 18     0.765671\n",
       "Under 18    0.234329\n",
       "Name: Age, dtype: float64"
      ]
     },
     "execution_count": 95,
     "metadata": {},
     "output_type": "execute_result"
    }
   ],
   "source": [
    "pds_age['Age'].value_counts(normalize=True)"
   ]
  },
  {
   "cell_type": "markdown",
   "id": "6d1ee552",
   "metadata": {},
   "source": [
    "# Fatality"
   ]
  },
  {
   "cell_type": "markdown",
   "id": "e31c517a",
   "metadata": {},
   "source": [
    "`Fatality`"
   ]
  },
  {
   "cell_type": "code",
   "execution_count": 99,
   "id": "8cd68f7d",
   "metadata": {},
   "outputs": [
    {
     "data": {
      "text/html": [
       "<div>\n",
       "<style scoped>\n",
       "    .dataframe tbody tr th:only-of-type {\n",
       "        vertical-align: middle;\n",
       "    }\n",
       "\n",
       "    .dataframe tbody tr th {\n",
       "        vertical-align: top;\n",
       "    }\n",
       "\n",
       "    .dataframe thead th {\n",
       "        text-align: right;\n",
       "    }\n",
       "</style>\n",
       "<table border=\"1\" class=\"dataframe\">\n",
       "  <thead>\n",
       "    <tr style=\"text-align: right;\">\n",
       "      <th></th>\n",
       "      <th>Date</th>\n",
       "      <th>Year</th>\n",
       "      <th>Type</th>\n",
       "      <th>Country</th>\n",
       "      <th>Area</th>\n",
       "      <th>Location</th>\n",
       "      <th>Activity</th>\n",
       "      <th>Name</th>\n",
       "      <th>Sex</th>\n",
       "      <th>Age</th>\n",
       "      <th>Injury</th>\n",
       "      <th>Fatal (Y/N)</th>\n",
       "      <th>Time</th>\n",
       "      <th>Species</th>\n",
       "    </tr>\n",
       "  </thead>\n",
       "  <tbody>\n",
       "    <tr>\n",
       "      <th>0</th>\n",
       "      <td>25-Jun-2018</td>\n",
       "      <td>2018.0</td>\n",
       "      <td>Boating</td>\n",
       "      <td>USA</td>\n",
       "      <td>California</td>\n",
       "      <td>Oceanside, San Diego County</td>\n",
       "      <td>Paddling</td>\n",
       "      <td>Julie Wolfe</td>\n",
       "      <td>F</td>\n",
       "      <td>Over 18</td>\n",
       "      <td>No injury to occupant, outrigger canoe and pad...</td>\n",
       "      <td>N</td>\n",
       "      <td>18h00</td>\n",
       "      <td>White shark</td>\n",
       "    </tr>\n",
       "    <tr>\n",
       "      <th>1</th>\n",
       "      <td>18-Jun-2018</td>\n",
       "      <td>2018.0</td>\n",
       "      <td>Unprovoked</td>\n",
       "      <td>USA</td>\n",
       "      <td>Georgia</td>\n",
       "      <td>St. Simon Island, Glynn County</td>\n",
       "      <td>Standing</td>\n",
       "      <td>Adyson McNeely</td>\n",
       "      <td>F</td>\n",
       "      <td>Under 18</td>\n",
       "      <td>Minor injury to left thigh</td>\n",
       "      <td>N</td>\n",
       "      <td>14h00  -15h00</td>\n",
       "      <td>NaN</td>\n",
       "    </tr>\n",
       "    <tr>\n",
       "      <th>2</th>\n",
       "      <td>09-Jun-2018</td>\n",
       "      <td>2018.0</td>\n",
       "      <td>Invalid</td>\n",
       "      <td>USA</td>\n",
       "      <td>Hawaii</td>\n",
       "      <td>Habush, Oahu</td>\n",
       "      <td>Surfing</td>\n",
       "      <td>John Denges</td>\n",
       "      <td>M</td>\n",
       "      <td>Over 18</td>\n",
       "      <td>Injury to left lower leg from surfboard skeg</td>\n",
       "      <td>N</td>\n",
       "      <td>07h45</td>\n",
       "      <td>NaN</td>\n",
       "    </tr>\n",
       "    <tr>\n",
       "      <th>6</th>\n",
       "      <td>03-Jun-2018</td>\n",
       "      <td>2018.0</td>\n",
       "      <td>Unprovoked</td>\n",
       "      <td>BRAZIL</td>\n",
       "      <td>Pernambuco</td>\n",
       "      <td>Piedade Beach, Recife</td>\n",
       "      <td>Swimming</td>\n",
       "      <td>Jose Ernesto da Silva</td>\n",
       "      <td>M</td>\n",
       "      <td>Over 18</td>\n",
       "      <td>FATAL</td>\n",
       "      <td>Y</td>\n",
       "      <td>Late afternoon</td>\n",
       "      <td>Tiger shark</td>\n",
       "    </tr>\n",
       "    <tr>\n",
       "      <th>7</th>\n",
       "      <td>27-May-2018</td>\n",
       "      <td>2018.0</td>\n",
       "      <td>Unprovoked</td>\n",
       "      <td>USA</td>\n",
       "      <td>Florida</td>\n",
       "      <td>Lighhouse Point Park, Ponce Inlet, Volusia County</td>\n",
       "      <td>Fishing</td>\n",
       "      <td>male</td>\n",
       "      <td>M</td>\n",
       "      <td>Over 18</td>\n",
       "      <td>Minor injury to foot. PROVOKED INCIDENT</td>\n",
       "      <td>N</td>\n",
       "      <td>NaN</td>\n",
       "      <td>Lemon shark, 3'</td>\n",
       "    </tr>\n",
       "    <tr>\n",
       "      <th>...</th>\n",
       "      <td>...</td>\n",
       "      <td>...</td>\n",
       "      <td>...</td>\n",
       "      <td>...</td>\n",
       "      <td>...</td>\n",
       "      <td>...</td>\n",
       "      <td>...</td>\n",
       "      <td>...</td>\n",
       "      <td>...</td>\n",
       "      <td>...</td>\n",
       "      <td>...</td>\n",
       "      <td>...</td>\n",
       "      <td>...</td>\n",
       "      <td>...</td>\n",
       "    </tr>\n",
       "    <tr>\n",
       "      <th>6242</th>\n",
       "      <td>1960s</td>\n",
       "      <td>0.0</td>\n",
       "      <td>Unprovoked</td>\n",
       "      <td>IRAQ</td>\n",
       "      <td>Basrah</td>\n",
       "      <td>Shatt-al-Arab River</td>\n",
       "      <td>Swimming naked near a date palm where many dat...</td>\n",
       "      <td>male</td>\n",
       "      <td>M</td>\n",
       "      <td>Over 18</td>\n",
       "      <td>Arm severed</td>\n",
       "      <td>N</td>\n",
       "      <td>Afternoon</td>\n",
       "      <td>Bull shark</td>\n",
       "    </tr>\n",
       "    <tr>\n",
       "      <th>6243</th>\n",
       "      <td>1960s</td>\n",
       "      <td>0.0</td>\n",
       "      <td>Unprovoked</td>\n",
       "      <td>IRAQ</td>\n",
       "      <td>Basrah</td>\n",
       "      <td>Shatt-al-Arab River near Abu al Khasib</td>\n",
       "      <td>Swimming in section of river used for washing ...</td>\n",
       "      <td>male</td>\n",
       "      <td>M</td>\n",
       "      <td>Under 18</td>\n",
       "      <td>Right leg lacerated &amp; surgically amputated</td>\n",
       "      <td>N</td>\n",
       "      <td>Afternoon</td>\n",
       "      <td>Bull shark</td>\n",
       "    </tr>\n",
       "    <tr>\n",
       "      <th>6254</th>\n",
       "      <td>Before 1957</td>\n",
       "      <td>0.0</td>\n",
       "      <td>Provoked</td>\n",
       "      <td>CUBA</td>\n",
       "      <td>Havana Province</td>\n",
       "      <td>Cojimar</td>\n",
       "      <td>Shark fishing, knocked overboard</td>\n",
       "      <td>Sandrillio</td>\n",
       "      <td>M</td>\n",
       "      <td>Over 18</td>\n",
       "      <td>FATAL, hip bitten  PROVOKED INCIDENT</td>\n",
       "      <td>Y</td>\n",
       "      <td>NaN</td>\n",
       "      <td>NaN</td>\n",
       "    </tr>\n",
       "    <tr>\n",
       "      <th>6276</th>\n",
       "      <td>Early 1930s</td>\n",
       "      <td>0.0</td>\n",
       "      <td>Unprovoked</td>\n",
       "      <td>BELIZE</td>\n",
       "      <td>NaN</td>\n",
       "      <td>NaN</td>\n",
       "      <td>Standing</td>\n",
       "      <td>a servant</td>\n",
       "      <td>M</td>\n",
       "      <td>Under 18</td>\n",
       "      <td>FATAL</td>\n",
       "      <td>Y</td>\n",
       "      <td>NaN</td>\n",
       "      <td>12' tiger shark</td>\n",
       "    </tr>\n",
       "    <tr>\n",
       "      <th>6301</th>\n",
       "      <td>1845-1853</td>\n",
       "      <td>0.0</td>\n",
       "      <td>Unprovoked</td>\n",
       "      <td>CEYLON (SRI LANKA)</td>\n",
       "      <td>Eastern Province</td>\n",
       "      <td>Below the English fort, Trincomalee</td>\n",
       "      <td>Swimming</td>\n",
       "      <td>male</td>\n",
       "      <td>M</td>\n",
       "      <td>Under 18</td>\n",
       "      <td>FATAL. \"Shark bit him in half, carrying away t...</td>\n",
       "      <td>Y</td>\n",
       "      <td>NaN</td>\n",
       "      <td>NaN</td>\n",
       "    </tr>\n",
       "  </tbody>\n",
       "</table>\n",
       "<p>3414 rows × 14 columns</p>\n",
       "</div>"
      ],
      "text/plain": [
       "             Date    Year        Type             Country              Area  \\\n",
       "0     25-Jun-2018  2018.0     Boating                 USA        California   \n",
       "1     18-Jun-2018  2018.0  Unprovoked                 USA           Georgia   \n",
       "2     09-Jun-2018  2018.0     Invalid                 USA            Hawaii   \n",
       "6     03-Jun-2018  2018.0  Unprovoked              BRAZIL        Pernambuco   \n",
       "7     27-May-2018  2018.0  Unprovoked                 USA           Florida   \n",
       "...           ...     ...         ...                 ...               ...   \n",
       "6242        1960s     0.0  Unprovoked                IRAQ            Basrah   \n",
       "6243        1960s     0.0  Unprovoked                IRAQ            Basrah   \n",
       "6254  Before 1957     0.0    Provoked                CUBA   Havana Province   \n",
       "6276  Early 1930s     0.0  Unprovoked              BELIZE               NaN   \n",
       "6301    1845-1853     0.0  Unprovoked  CEYLON (SRI LANKA)  Eastern Province   \n",
       "\n",
       "                                               Location  \\\n",
       "0                           Oceanside, San Diego County   \n",
       "1                        St. Simon Island, Glynn County   \n",
       "2                                          Habush, Oahu   \n",
       "6                                 Piedade Beach, Recife   \n",
       "7     Lighhouse Point Park, Ponce Inlet, Volusia County   \n",
       "...                                                 ...   \n",
       "6242                               Shatt-al-Arab River    \n",
       "6243             Shatt-al-Arab River near Abu al Khasib   \n",
       "6254                                            Cojimar   \n",
       "6276                                                NaN   \n",
       "6301                Below the English fort, Trincomalee   \n",
       "\n",
       "                                               Activity  \\\n",
       "0                                              Paddling   \n",
       "1                                              Standing   \n",
       "2                                               Surfing   \n",
       "6                                              Swimming   \n",
       "7                                               Fishing   \n",
       "...                                                 ...   \n",
       "6242  Swimming naked near a date palm where many dat...   \n",
       "6243  Swimming in section of river used for washing ...   \n",
       "6254                   Shark fishing, knocked overboard   \n",
       "6276                                           Standing   \n",
       "6301                                           Swimming   \n",
       "\n",
       "                        Name Sex        Age  \\\n",
       "0                Julie Wolfe    F   Over 18   \n",
       "1            Adyson McNeely     F  Under 18   \n",
       "2                John Denges    M   Over 18   \n",
       "6     Jose Ernesto da Silva     M   Over 18   \n",
       "7                       male    M   Over 18   \n",
       "...                      ...  ...       ...   \n",
       "6242                    male    M   Over 18   \n",
       "6243                    male    M  Under 18   \n",
       "6254              Sandrillio    M   Over 18   \n",
       "6276               a servant    M  Under 18   \n",
       "6301                    male    M  Under 18   \n",
       "\n",
       "                                                 Injury Fatal (Y/N)  \\\n",
       "0     No injury to occupant, outrigger canoe and pad...           N   \n",
       "1                            Minor injury to left thigh           N   \n",
       "2          Injury to left lower leg from surfboard skeg           N   \n",
       "6                                                 FATAL           Y   \n",
       "7               Minor injury to foot. PROVOKED INCIDENT           N   \n",
       "...                                                 ...         ...   \n",
       "6242                                        Arm severed           N   \n",
       "6243         Right leg lacerated & surgically amputated           N   \n",
       "6254               FATAL, hip bitten  PROVOKED INCIDENT           Y   \n",
       "6276                                              FATAL           Y   \n",
       "6301  FATAL. \"Shark bit him in half, carrying away t...           Y   \n",
       "\n",
       "                Time         Species   \n",
       "0              18h00      White shark  \n",
       "1      14h00  -15h00              NaN  \n",
       "2              07h45              NaN  \n",
       "6     Late afternoon      Tiger shark  \n",
       "7                NaN  Lemon shark, 3'  \n",
       "...              ...              ...  \n",
       "6242       Afternoon       Bull shark  \n",
       "6243       Afternoon       Bull shark  \n",
       "6254             NaN              NaN  \n",
       "6276             NaN  12' tiger shark  \n",
       "6301             NaN              NaN  \n",
       "\n",
       "[3414 rows x 14 columns]"
      ]
     },
     "execution_count": 99,
     "metadata": {},
     "output_type": "execute_result"
    }
   ],
   "source": [
    "pds_age"
   ]
  },
  {
   "cell_type": "code",
   "execution_count": 100,
   "id": "e18bfe4f",
   "metadata": {},
   "outputs": [
    {
     "data": {
      "text/plain": [
       "array(['N', 'Y', nan, 'M', '2017', 'UNKNOWN', ' N'], dtype=object)"
      ]
     },
     "execution_count": 100,
     "metadata": {},
     "output_type": "execute_result"
    }
   ],
   "source": [
    "pds_age[\"Fatal (Y/N)\"].unique()"
   ]
  },
  {
   "cell_type": "code",
   "execution_count": 101,
   "id": "2c16c0a9",
   "metadata": {},
   "outputs": [],
   "source": [
    "pds_age.dropna(subset = ['Fatal (Y/N)'], inplace=True)"
   ]
  },
  {
   "cell_type": "code",
   "execution_count": 102,
   "id": "d0ea3002",
   "metadata": {},
   "outputs": [],
   "source": [
    "pds_age[\"Fatal (Y/N)\"] = pds_age[\"Fatal (Y/N)\"].str.replace(' N','N')"
   ]
  },
  {
   "cell_type": "code",
   "execution_count": 103,
   "id": "e6854a17",
   "metadata": {},
   "outputs": [],
   "source": [
    "pds_age = pds_age[~pds_age['Fatal (Y/N)'].str.contains('M')]"
   ]
  },
  {
   "cell_type": "code",
   "execution_count": 104,
   "id": "172d6769",
   "metadata": {},
   "outputs": [],
   "source": [
    "pds_age = pds_age[~pds_age['Fatal (Y/N)'].str.contains('2017')]"
   ]
  },
  {
   "cell_type": "code",
   "execution_count": 105,
   "id": "902318b8",
   "metadata": {},
   "outputs": [],
   "source": [
    "pds_age = pds_age[~pds_age['Fatal (Y/N)'].str.contains('UNKNOWN')]"
   ]
  },
  {
   "cell_type": "code",
   "execution_count": 106,
   "id": "121ce3c0",
   "metadata": {},
   "outputs": [
    {
     "data": {
      "text/plain": [
       "array(['N', 'Y'], dtype=object)"
      ]
     },
     "execution_count": 106,
     "metadata": {},
     "output_type": "execute_result"
    }
   ],
   "source": [
    "pds_age[\"Fatal (Y/N)\"].unique()"
   ]
  },
  {
   "cell_type": "code",
   "execution_count": 107,
   "id": "716c6955",
   "metadata": {},
   "outputs": [
    {
     "data": {
      "image/png": "[encoded data removed]",
      "text/plain": [
       "<Figure size 640x480 with 1 Axes>"
      ]
     },
     "metadata": {},
     "output_type": "display_data"
    }
   ],
   "source": [
    "sns.countplot(data=pds_age, x=\"Fatal (Y/N)\", palette=\"mako\");"
   ]
  },
  {
   "cell_type": "code",
   "execution_count": 108,
   "id": "d5804078",
   "metadata": {},
   "outputs": [
    {
     "data": {
      "text/plain": [
       "<AxesSubplot:xlabel='Age', ylabel='Count'>"
      ]
     },
     "execution_count": 108,
     "metadata": {},
     "output_type": "execute_result"
    },
    {
     "data": {
      "image/png": "[encoded data removed]",
      "text/plain": [
       "<Figure size 640x480 with 1 Axes>"
      ]
     },
     "metadata": {},
     "output_type": "display_data"
    }
   ],
   "source": [
    "sns.histplot(data=pds_age, x=\"Age\", hue=\"Fatal (Y/N)\", palette=\"mako\")"
   ]
  },
  {
   "cell_type": "code",
   "execution_count": 109,
   "id": "b9de3510",
   "metadata": {},
   "outputs": [
    {
     "data": {
      "text/plain": [
       "N    2576\n",
       "Y     604\n",
       "Name: Fatal (Y/N), dtype: int64"
      ]
     },
     "execution_count": 109,
     "metadata": {},
     "output_type": "execute_result"
    }
   ],
   "source": [
    "pds_age[\"Fatal (Y/N)\"].value_counts()"
   ]
  },
  {
   "cell_type": "code",
   "execution_count": 110,
   "id": "bb24a388",
   "metadata": {},
   "outputs": [
    {
     "data": {
      "text/plain": [
       "N    0.810063\n",
       "Y    0.189937\n",
       "Name: Fatal (Y/N), dtype: float64"
      ]
     },
     "execution_count": 110,
     "metadata": {},
     "output_type": "execute_result"
    }
   ],
   "source": [
    "pds_age['Fatal (Y/N)'].value_counts(normalize=True)"
   ]
  },
  {
   "cell_type": "code",
   "execution_count": 154,
   "id": "01a6e437",
   "metadata": {
    "scrolled": true
   },
   "outputs": [
    {
     "data": {
      "text/plain": [
       "Age       Fatal (Y/N)\n",
       "Over 18   N              1961\n",
       "Under 18  N               615\n",
       "Over 18   Y               465\n",
       "Under 18  Y               139\n",
       "dtype: int64"
      ]
     },
     "execution_count": 154,
     "metadata": {},
     "output_type": "execute_result"
    }
   ],
   "source": [
    "pds_age.value_counts([\"Age\",\"Fatal (Y/N)\"])"
   ]
  },
  {
   "cell_type": "code",
   "execution_count": 160,
   "id": "579da372",
   "metadata": {},
   "outputs": [
    {
     "data": {
      "text/plain": [
       "Index(['Date', 'Year', 'Type', 'Country', 'Area', 'Location', 'Activity',\n",
       "       'Name', 'Sex ', 'Age', 'Injury', 'Fatal (Y/N)', 'Time', 'Species '],\n",
       "      dtype='object')"
      ]
     },
     "execution_count": 160,
     "metadata": {},
     "output_type": "execute_result"
    }
   ],
   "source": [
    "pds_age.columns"
   ]
  },
  {
   "cell_type": "code",
   "execution_count": 161,
   "id": "ecceb31c",
   "metadata": {},
   "outputs": [],
   "source": [
    "to_drop = ['Date','Year','Type','Country','Area','Location','Activity','Name','Sex ','Injury', 'Time', 'Species ']\n",
    "pds_age.drop(to_drop, inplace=True, axis=1)"
   ]
  },
  {
   "cell_type": "code",
   "execution_count": 162,
   "id": "85269f58",
   "metadata": {},
   "outputs": [
    {
     "data": {
      "text/html": [
       "<div>\n",
       "<style scoped>\n",
       "    .dataframe tbody tr th:only-of-type {\n",
       "        vertical-align: middle;\n",
       "    }\n",
       "\n",
       "    .dataframe tbody tr th {\n",
       "        vertical-align: top;\n",
       "    }\n",
       "\n",
       "    .dataframe thead th {\n",
       "        text-align: right;\n",
       "    }\n",
       "</style>\n",
       "<table border=\"1\" class=\"dataframe\">\n",
       "  <thead>\n",
       "    <tr style=\"text-align: right;\">\n",
       "      <th></th>\n",
       "      <th>Age</th>\n",
       "      <th>Fatal (Y/N)</th>\n",
       "    </tr>\n",
       "  </thead>\n",
       "  <tbody>\n",
       "    <tr>\n",
       "      <th>0</th>\n",
       "      <td>Over 18</td>\n",
       "      <td>N</td>\n",
       "    </tr>\n",
       "    <tr>\n",
       "      <th>1</th>\n",
       "      <td>Under 18</td>\n",
       "      <td>N</td>\n",
       "    </tr>\n",
       "    <tr>\n",
       "      <th>2</th>\n",
       "      <td>Over 18</td>\n",
       "      <td>N</td>\n",
       "    </tr>\n",
       "    <tr>\n",
       "      <th>6</th>\n",
       "      <td>Over 18</td>\n",
       "      <td>Y</td>\n",
       "    </tr>\n",
       "    <tr>\n",
       "      <th>7</th>\n",
       "      <td>Over 18</td>\n",
       "      <td>N</td>\n",
       "    </tr>\n",
       "    <tr>\n",
       "      <th>...</th>\n",
       "      <td>...</td>\n",
       "      <td>...</td>\n",
       "    </tr>\n",
       "    <tr>\n",
       "      <th>6242</th>\n",
       "      <td>Over 18</td>\n",
       "      <td>N</td>\n",
       "    </tr>\n",
       "    <tr>\n",
       "      <th>6243</th>\n",
       "      <td>Under 18</td>\n",
       "      <td>N</td>\n",
       "    </tr>\n",
       "    <tr>\n",
       "      <th>6254</th>\n",
       "      <td>Over 18</td>\n",
       "      <td>Y</td>\n",
       "    </tr>\n",
       "    <tr>\n",
       "      <th>6276</th>\n",
       "      <td>Under 18</td>\n",
       "      <td>Y</td>\n",
       "    </tr>\n",
       "    <tr>\n",
       "      <th>6301</th>\n",
       "      <td>Under 18</td>\n",
       "      <td>Y</td>\n",
       "    </tr>\n",
       "  </tbody>\n",
       "</table>\n",
       "<p>3180 rows × 2 columns</p>\n",
       "</div>"
      ],
      "text/plain": [
       "           Age Fatal (Y/N)\n",
       "0      Over 18           N\n",
       "1     Under 18           N\n",
       "2      Over 18           N\n",
       "6      Over 18           Y\n",
       "7      Over 18           N\n",
       "...        ...         ...\n",
       "6242   Over 18           N\n",
       "6243  Under 18           N\n",
       "6254   Over 18           Y\n",
       "6276  Under 18           Y\n",
       "6301  Under 18           Y\n",
       "\n",
       "[3180 rows x 2 columns]"
      ]
     },
     "execution_count": 162,
     "metadata": {},
     "output_type": "execute_result"
    }
   ],
   "source": [
    "pds_age"
   ]
  },
  {
   "cell_type": "code",
   "execution_count": 165,
   "id": "b30c5e1a",
   "metadata": {},
   "outputs": [
    {
     "data": {
      "text/plain": [
       "Age       Fatal (Y/N)\n",
       "Over 18   N              1961\n",
       "Under 18  N               615\n",
       "Over 18   Y               465\n",
       "Under 18  Y               139\n",
       "dtype: int64"
      ]
     },
     "execution_count": 165,
     "metadata": {},
     "output_type": "execute_result"
    }
   ],
   "source": [
    "pds_age.value_counts()"
   ]
  },
  {
   "cell_type": "code",
   "execution_count": 190,
   "id": "b6e79e25",
   "metadata": {},
   "outputs": [
    {
     "data": {
      "text/html": [
       "<div>\n",
       "<style scoped>\n",
       "    .dataframe tbody tr th:only-of-type {\n",
       "        vertical-align: middle;\n",
       "    }\n",
       "\n",
       "    .dataframe tbody tr th {\n",
       "        vertical-align: top;\n",
       "    }\n",
       "\n",
       "    .dataframe thead tr th {\n",
       "        text-align: left;\n",
       "    }\n",
       "</style>\n",
       "<table border=\"1\" class=\"dataframe\">\n",
       "  <thead>\n",
       "    <tr>\n",
       "      <th></th>\n",
       "      <th>Age</th>\n",
       "      <th>Fatal (Y/N)</th>\n",
       "      <th>Count</th>\n",
       "      <th>Age</th>\n",
       "      <th>Fatal (Y/N)</th>\n",
       "      <th>Percentage</th>\n",
       "    </tr>\n",
       "    <tr>\n",
       "      <th></th>\n",
       "      <th></th>\n",
       "      <th></th>\n",
       "      <th>sum</th>\n",
       "      <th>count</th>\n",
       "      <th>first</th>\n",
       "      <th></th>\n",
       "    </tr>\n",
       "  </thead>\n",
       "  <tbody>\n",
       "    <tr>\n",
       "      <th>0</th>\n",
       "      <td>Over 18</td>\n",
       "      <td>N</td>\n",
       "      <td>1961</td>\n",
       "      <td>1</td>\n",
       "      <td>N</td>\n",
       "      <td>80.832646</td>\n",
       "    </tr>\n",
       "    <tr>\n",
       "      <th>1</th>\n",
       "      <td>Over 18</td>\n",
       "      <td>Y</td>\n",
       "      <td>465</td>\n",
       "      <td>1</td>\n",
       "      <td>Y</td>\n",
       "      <td>19.167354</td>\n",
       "    </tr>\n",
       "  </tbody>\n",
       "</table>\n",
       "</div>"
      ],
      "text/plain": [
       "       Age Fatal (Y/N) Count   Age Fatal (Y/N) Percentage\n",
       "                         sum count       first           \n",
       "0  Over 18           N  1961     1           N  80.832646\n",
       "1  Over 18           Y   465     1           Y  19.167354"
      ]
     },
     "execution_count": 190,
     "metadata": {},
     "output_type": "execute_result"
    }
   ],
   "source": [
    "data_over = {'Age': ['Over 18', 'Over 18'], \n",
    "        'Fatal (Y/N)': ['N', 'Y'], \n",
    "        'Count': [1961, 465]}\n",
    "df = pd.DataFrame(data_over)\n",
    "\n",
    "grouped = df.groupby(['Age', 'Fatal (Y/N)'])\n",
    "\n",
    "result_over = grouped.agg({'Count': ['sum'], \n",
    "                      'Age': ['count'], \n",
    "                      'Fatal (Y/N)': ['first']}).reset_index()\n",
    "\n",
    "result_over['Percentage'] = result_over['Count']['sum'] / result_over['Count']['sum'].sum() * 100\n",
    "\n",
    "result_over"
   ]
  },
  {
   "cell_type": "code",
   "execution_count": 191,
   "id": "a7fd51f7",
   "metadata": {},
   "outputs": [
    {
     "data": {
      "text/html": [
       "<div>\n",
       "<style scoped>\n",
       "    .dataframe tbody tr th:only-of-type {\n",
       "        vertical-align: middle;\n",
       "    }\n",
       "\n",
       "    .dataframe tbody tr th {\n",
       "        vertical-align: top;\n",
       "    }\n",
       "\n",
       "    .dataframe thead tr th {\n",
       "        text-align: left;\n",
       "    }\n",
       "</style>\n",
       "<table border=\"1\" class=\"dataframe\">\n",
       "  <thead>\n",
       "    <tr>\n",
       "      <th></th>\n",
       "      <th>Age</th>\n",
       "      <th>Fatal (Y/N)</th>\n",
       "      <th>Count</th>\n",
       "      <th>Age</th>\n",
       "      <th>Fatal (Y/N)</th>\n",
       "      <th>Percentage</th>\n",
       "    </tr>\n",
       "    <tr>\n",
       "      <th></th>\n",
       "      <th></th>\n",
       "      <th></th>\n",
       "      <th>sum</th>\n",
       "      <th>count</th>\n",
       "      <th>first</th>\n",
       "      <th></th>\n",
       "    </tr>\n",
       "  </thead>\n",
       "  <tbody>\n",
       "    <tr>\n",
       "      <th>0</th>\n",
       "      <td>Under 18</td>\n",
       "      <td>N</td>\n",
       "      <td>615</td>\n",
       "      <td>1</td>\n",
       "      <td>N</td>\n",
       "      <td>81.564987</td>\n",
       "    </tr>\n",
       "    <tr>\n",
       "      <th>1</th>\n",
       "      <td>Under 18</td>\n",
       "      <td>Y</td>\n",
       "      <td>139</td>\n",
       "      <td>1</td>\n",
       "      <td>Y</td>\n",
       "      <td>18.435013</td>\n",
       "    </tr>\n",
       "  </tbody>\n",
       "</table>\n",
       "</div>"
      ],
      "text/plain": [
       "        Age Fatal (Y/N) Count   Age Fatal (Y/N) Percentage\n",
       "                          sum count       first           \n",
       "0  Under 18           N   615     1           N  81.564987\n",
       "1  Under 18           Y   139     1           Y  18.435013"
      ]
     },
     "execution_count": 191,
     "metadata": {},
     "output_type": "execute_result"
    }
   ],
   "source": [
    "data_under = {'Age': ['Under 18', 'Under 18'], \n",
    "        'Fatal (Y/N)': ['N', 'Y'], \n",
    "        'Count': [615, 139]}\n",
    "df = pd.DataFrame(data_under)\n",
    "\n",
    "grouped = df.groupby(['Age', 'Fatal (Y/N)'])\n",
    "\n",
    "result_under = grouped.agg({'Count': ['sum'], \n",
    "                      'Age': ['count'], \n",
    "                      'Fatal (Y/N)': ['first']}).reset_index()\n",
    "\n",
    "result_under['Percentage'] = result_under['Count']['sum'] / result_under['Count']['sum'].sum() * 100\n",
    "\n",
    "result_under"
   ]
  },
  {
   "cell_type": "code",
   "execution_count": 112,
   "id": "6f028477",
   "metadata": {},
   "outputs": [
    {
     "data": {
      "image/png": "[encoded data removed]",
      "text/plain": [
       "<Figure size 640x480 with 1 Axes>"
      ]
     },
     "metadata": {},
     "output_type": "display_data"
    }
   ],
   "source": [
    "sns.countplot(x=\"Age\", hue=\"Fatal (Y/N)\", data = pds_age, palette=\"mako\");"
   ]
  },
  {
   "cell_type": "code",
   "execution_count": 192,
   "id": "fe5260b1",
   "metadata": {},
   "outputs": [],
   "source": [
    "pds_age.to_csv(\"clean_h2.csv\", index=False)"
   ]
  },
  {
   "cell_type": "code",
   "execution_count": null,
   "id": "e9cb40a7",
   "metadata": {},
   "outputs": [],
   "source": []
  }
 ],
 "metadata": {
  "kernelspec": {
   "display_name": "Python 3 (ipykernel)",
   "language": "python",
   "name": "python3"
  },
  "language_info": {
   "codemirror_mode": {
    "name": "ipython",
    "version": 3
   },
   "file_extension": ".py",
   "mimetype": "text/x-python",
   "name": "python",
   "nbconvert_exporter": "python",
   "pygments_lexer": "ipython3",
   "version": "3.9.13"
  }
 },
 "nbformat": 4,
 "nbformat_minor": 5
}
